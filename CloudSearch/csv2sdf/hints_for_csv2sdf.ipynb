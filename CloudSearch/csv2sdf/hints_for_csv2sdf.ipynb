{
 "cells": [
  {
   "cell_type": "code",
   "execution_count": 19,
   "metadata": {},
   "outputs": [],
   "source": [
    "import json\n",
    "import csv\n",
    "import os\n",
    "\n",
    "# Some hints for writing csv2sdf"
   ]
  },
  {
   "cell_type": "code",
   "execution_count": 8,
   "metadata": {},
   "outputs": [
    {
     "name": "stdout",
     "output_type": "stream",
     "text": [
      "Success!\n",
      "\n",
      "marketplace_id\n",
      "ASIN\n",
      "SKU\n",
      "1\n",
      "ASIN111\n",
      "SKU111\n",
      "1\n",
      "ASIN222\n",
      "SKU222\n",
      "6\n",
      "ASIN333\n",
      "SKU333 \n",
      "The end\n",
      "\n",
      "4\n"
     ]
    }
   ],
   "source": [
    "# Learn how to read content from csv file\n",
    "\n",
    "with open('/Users/Asuka/Downloads/00/in.csv') as csv_file:\n",
    "    print(\"Success!\\n\")\n",
    "    csv_reader = csv.reader(csv_file, delimiter=',')\n",
    "    line_count = 0\n",
    "    for row in csv_reader:\n",
    "        if line_count == 0:\n",
    "            print(row[0])\n",
    "            print(row[1])\n",
    "            print(row[2])\n",
    "            line_count += 1\n",
    "        else:\n",
    "            print(row[0])\n",
    "            print(row[1])\n",
    "            print(row[2])\n",
    "            line_count += 1\n",
    "    print(\"The end\\n\")\n",
    "    print(line_count)"
   ]
  },
  {
   "cell_type": "code",
   "execution_count": 18,
   "metadata": {},
   "outputs": [
    {
     "name": "stdout",
     "output_type": "stream",
     "text": [
      "[\n",
      "   {\n",
      "      \"fields\": {\n",
      "         \"SKU\": \"SKU0\", \n",
      "         \"ASIN\": \"ASIN0\", \n",
      "         \"marketplace_id\": \"0\"\n",
      "      }, \n",
      "      \"type\": \"add\", \n",
      "      \"id\": \"123\"\n",
      "   }, \n",
      "   {\n",
      "      \"fields\": {\n",
      "         \"SKU\": \"SKU1\", \n",
      "         \"ASIN\": \"ASIN1\", \n",
      "         \"marketplace_id\": \"1\"\n",
      "      }, \n",
      "      \"type\": \"add\", \n",
      "      \"id\": \"123\"\n",
      "   }, \n",
      "   {\n",
      "      \"fields\": {\n",
      "         \"SKU\": \"SKU2\", \n",
      "         \"ASIN\": \"ASIN2\", \n",
      "         \"marketplace_id\": \"2\"\n",
      "      }, \n",
      "      \"type\": \"add\", \n",
      "      \"id\": \"123\"\n",
      "   }, \n",
      "   {\n",
      "      \"fields\": {\n",
      "         \"SKU\": \"SKU3\", \n",
      "         \"ASIN\": \"ASIN3\", \n",
      "         \"marketplace_id\": \"3\"\n",
      "      }, \n",
      "      \"type\": \"add\", \n",
      "      \"id\": \"123\"\n",
      "   }\n",
      "]\n",
      "The End\n"
     ]
    }
   ],
   "source": [
    "# Learn how to write content to json object\n",
    "final_list = []\n",
    "\n",
    "for i in range(4):\n",
    "    fields = {}\n",
    "    tmp_dic = {}\n",
    "    fields['marketplace_id'] = str(i)\n",
    "    fields['ASIN'] = 'ASIN'+str(i)\n",
    "    fields['SKU'] = 'SKU'+str(i)\n",
    "    tmp_dic['type']=\"add\"\n",
    "    tmp_dic['id']='123'\n",
    "    tmp_dic['fields']=fields\n",
    "    final_list.append(tmp_dic)\n",
    "    \n",
    "json_string = json.dumps(final_list, indent=3)\n",
    "json_out = json.dumps(final_list)\n",
    "print(json_string)\n",
    "\n",
    "with open('/Users/Asuka/Downloads/00/out.json', 'w') as outfile:\n",
    "    json.dump(json_out, outfile)\n",
    "\n",
    "print(\"The End\")\n",
    "   \n"
   ]
  },
  {
   "cell_type": "code",
   "execution_count": 22,
   "metadata": {},
   "outputs": [
    {
     "data": {
      "text/plain": [
       "0"
      ]
     },
     "execution_count": 22,
     "metadata": {},
     "output_type": "execute_result"
    }
   ],
   "source": [
    "# learn how to write system command: run aws cli and wait\n",
    "os.system(\"echo 'Start'\")\n",
    "os.system('sleep 5')\n",
    "os.system(\"echo 'Wait'\")"
   ]
  },
  {
   "cell_type": "code",
   "execution_count": null,
   "metadata": {},
   "outputs": [],
   "source": [
    "# run: sh test.sh\n",
    "\n",
    "#!/bin/bash\n",
    "echo 'Start'\n",
    "sleep 5\n",
    "echo 'Wait'"
   ]
  }
 ],
 "metadata": {
  "kernelspec": {
   "display_name": "Python 2",
   "language": "python",
   "name": "python2"
  },
  "language_info": {
   "codemirror_mode": {
    "name": "ipython",
    "version": 2
   },
   "file_extension": ".py",
   "mimetype": "text/x-python",
   "name": "python",
   "nbconvert_exporter": "python",
   "pygments_lexer": "ipython2",
   "version": "2.7.14"
  }
 },
 "nbformat": 4,
 "nbformat_minor": 2
}
